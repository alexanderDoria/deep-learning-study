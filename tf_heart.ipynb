{
  "nbformat": 4,
  "nbformat_minor": 0,
  "metadata": {
    "colab": {
      "name": "tf_heart.ipynb",
      "provenance": []
    },
    "kernelspec": {
      "name": "python3",
      "display_name": "Python 3"
    },
    "language_info": {
      "name": "python"
    }
  },
  "cells": [
    {
      "cell_type": "code",
      "execution_count": 275,
      "metadata": {
        "id": "SMeKABS5l8Yd"
      },
      "outputs": [],
      "source": [
        "import pandas as pd\n",
        "from keras.utils import np_utils\n",
        "from keras.models import Sequential\n",
        "from keras.layers import Dense, Conv1D\n",
        "from sklearn.preprocessing import OrdinalEncoder, OneHotEncoder\n",
        "from sklearn.model_selection import train_test_split\n",
        "from sklearn.metrics import accuracy_score as accuracy, precision_score as precision, recall_score as recall, f1_score as f1\n",
        "import seaborn as sns\n",
        "import numpy as np\n",
        "import matplotlib.pyplot as plt\n",
        "from sklearn.ensemble import RandomForestClassifier\n",
        "from sklearn.tree import DecisionTreeClassifier\n",
        "from sklearn.neighbors import KNeighborsClassifier"
      ]
    },
    {
      "cell_type": "code",
      "source": [
        "def apply_bool(x):\n",
        "  if type(x) is not str: return x\n",
        "  if x == 'Yes' or x.startswith('Yes'):\n",
        "    return 1\n",
        "  elif x == 'No' or x.startswith('No'):\n",
        "    return 0\n",
        "  return x"
      ],
      "metadata": {
        "id": "cPjuUKr4T_L7"
      },
      "execution_count": 144,
      "outputs": []
    },
    {
      "cell_type": "code",
      "source": [
        "data = pd.read_csv(\"heart_2020_cleaned.csv\")"
      ],
      "metadata": {
        "id": "FKMRnToNl9Nk"
      },
      "execution_count": 241,
      "outputs": []
    },
    {
      "cell_type": "code",
      "source": [
        "data = data.applymap(apply_bool)\n",
        "data['Sex'] = data['Sex'].apply(lambda x: 1 if x == 'Female' else 0)"
      ],
      "metadata": {
        "id": "WIHG1OcAmPtF"
      },
      "execution_count": 242,
      "outputs": []
    },
    {
      "cell_type": "code",
      "source": [
        "age_cats = sorted(data['AgeCategory'].value_counts().index)\n",
        "enc = OrdinalEncoder(categories=[['Poor', 'Fair', 'Good', 'Very good', 'Excellent'], \n",
        "                                 age_cats])\n",
        "enc_cols = ['GenHealth', 'AgeCategory']\n",
        "ordinal_df = pd.DataFrame(enc.fit_transform(data[enc_cols]), \n",
        "                          columns=enc_cols)\n",
        "\n",
        "data[enc_cols] = ordinal_df[enc_cols]"
      ],
      "metadata": {
        "id": "oCkYEbffeiZU"
      },
      "execution_count": 243,
      "outputs": []
    },
    {
      "cell_type": "code",
      "source": [
        "plt.figure(figsize = (16,8))\n",
        "sns.heatmap(data.corr().round(2), annot=True, cmap='YlOrBr')"
      ],
      "metadata": {
        "id": "wFCWjVWb6Oqw"
      },
      "execution_count": null,
      "outputs": []
    },
    {
      "cell_type": "code",
      "source": [
        "enc = OneHotEncoder() \n",
        "\n",
        "categ = data[['AgeCategory', 'Race', 'GenHealth']]\n",
        "encoded_categ = pd.DataFrame(enc.fit_transform(categ).toarray())\n",
        "\n",
        "data = pd.concat([data, encoded_categ], axis = 1)\n",
        "\n",
        "data = data.drop(columns = ['AgeCategory', 'Race', 'GenHealth'], axis=1)"
      ],
      "metadata": {
        "id": "-PB0dOe954qk"
      },
      "execution_count": 244,
      "outputs": []
    },
    {
      "cell_type": "code",
      "source": [
        "y = data['HeartDisease'].to_numpy()\n",
        "X = data.drop(columns=['HeartDisease']).to_numpy()\n",
        "\n",
        "x_train, x_test, y_train, y_test = train_test_split(X, y, test_size=0.2, shuffle=True)\n",
        "\n",
        "input_dim = x_train.shape[1]"
      ],
      "metadata": {
        "id": "Ua39dErJhMd6"
      },
      "execution_count": 246,
      "outputs": []
    },
    {
      "cell_type": "code",
      "source": [
        "model = Sequential()\n",
        "\n",
        "model.add(Dense(16, input_dim=input_dim, activation='relu'))\n",
        "model.add(Dense(8, activation='relu'))\n",
        "model.add(Dense(8, activation='relu'))\n",
        "model.add(Dense(1, activation='sigmoid'))\n",
        "\n",
        "model.compile(loss='binary_crossentropy', optimizer='adam', metrics='accuracy')"
      ],
      "metadata": {
        "id": "eE3vOZ3Ms-pm"
      },
      "execution_count": 270,
      "outputs": []
    },
    {
      "cell_type": "code",
      "source": [
        "model.fit(x_train, y_train, validation_split=0.2, epochs=25, batch_size=500)"
      ],
      "metadata": {
        "colab": {
          "base_uri": "https://localhost:8080/"
        },
        "id": "Xu3neKPUtqhB",
        "outputId": "fbf2ebf7-e727-481b-abda-a536fd7eeea3"
      },
      "execution_count": 271,
      "outputs": [
        {
          "output_type": "stream",
          "name": "stdout",
          "text": [
            "Epoch 1/25\n",
            "410/410 [==============================] - 2s 3ms/step - loss: 0.3003 - accuracy: 0.9105 - val_loss: 0.2350 - val_accuracy: 0.9143\n",
            "Epoch 2/25\n",
            "410/410 [==============================] - 1s 2ms/step - loss: 0.2313 - accuracy: 0.9156 - val_loss: 0.2275 - val_accuracy: 0.9154\n",
            "Epoch 3/25\n",
            "410/410 [==============================] - 1s 2ms/step - loss: 0.2279 - accuracy: 0.9162 - val_loss: 0.2260 - val_accuracy: 0.9156\n",
            "Epoch 4/25\n",
            "410/410 [==============================] - 1s 2ms/step - loss: 0.2270 - accuracy: 0.9163 - val_loss: 0.2259 - val_accuracy: 0.9154\n",
            "Epoch 5/25\n",
            "410/410 [==============================] - 1s 2ms/step - loss: 0.2266 - accuracy: 0.9164 - val_loss: 0.2257 - val_accuracy: 0.9155\n",
            "Epoch 6/25\n",
            "410/410 [==============================] - 1s 2ms/step - loss: 0.2263 - accuracy: 0.9163 - val_loss: 0.2256 - val_accuracy: 0.9157\n",
            "Epoch 7/25\n",
            "410/410 [==============================] - 1s 2ms/step - loss: 0.2263 - accuracy: 0.9165 - val_loss: 0.2266 - val_accuracy: 0.9158\n",
            "Epoch 8/25\n",
            "410/410 [==============================] - 1s 2ms/step - loss: 0.2261 - accuracy: 0.9164 - val_loss: 0.2280 - val_accuracy: 0.9156\n",
            "Epoch 9/25\n",
            "410/410 [==============================] - 1s 2ms/step - loss: 0.2258 - accuracy: 0.9165 - val_loss: 0.2259 - val_accuracy: 0.9156\n",
            "Epoch 10/25\n",
            "410/410 [==============================] - 1s 2ms/step - loss: 0.2259 - accuracy: 0.9166 - val_loss: 0.2259 - val_accuracy: 0.9156\n",
            "Epoch 11/25\n",
            "410/410 [==============================] - 1s 2ms/step - loss: 0.2257 - accuracy: 0.9165 - val_loss: 0.2254 - val_accuracy: 0.9154\n",
            "Epoch 12/25\n",
            "410/410 [==============================] - 1s 2ms/step - loss: 0.2257 - accuracy: 0.9166 - val_loss: 0.2253 - val_accuracy: 0.9153\n",
            "Epoch 13/25\n",
            "410/410 [==============================] - 1s 2ms/step - loss: 0.2256 - accuracy: 0.9166 - val_loss: 0.2254 - val_accuracy: 0.9155\n",
            "Epoch 14/25\n",
            "410/410 [==============================] - 1s 2ms/step - loss: 0.2256 - accuracy: 0.9166 - val_loss: 0.2255 - val_accuracy: 0.9155\n",
            "Epoch 15/25\n",
            "410/410 [==============================] - 1s 2ms/step - loss: 0.2256 - accuracy: 0.9165 - val_loss: 0.2258 - val_accuracy: 0.9157\n",
            "Epoch 16/25\n",
            "410/410 [==============================] - 1s 2ms/step - loss: 0.2254 - accuracy: 0.9165 - val_loss: 0.2260 - val_accuracy: 0.9156\n",
            "Epoch 17/25\n",
            "410/410 [==============================] - 1s 2ms/step - loss: 0.2254 - accuracy: 0.9167 - val_loss: 0.2254 - val_accuracy: 0.9155\n",
            "Epoch 18/25\n",
            "410/410 [==============================] - 1s 2ms/step - loss: 0.2252 - accuracy: 0.9167 - val_loss: 0.2258 - val_accuracy: 0.9156\n",
            "Epoch 19/25\n",
            "410/410 [==============================] - 1s 2ms/step - loss: 0.2251 - accuracy: 0.9165 - val_loss: 0.2253 - val_accuracy: 0.9154\n",
            "Epoch 20/25\n",
            "410/410 [==============================] - 1s 2ms/step - loss: 0.2252 - accuracy: 0.9167 - val_loss: 0.2257 - val_accuracy: 0.9154\n",
            "Epoch 21/25\n",
            "410/410 [==============================] - 1s 2ms/step - loss: 0.2252 - accuracy: 0.9165 - val_loss: 0.2253 - val_accuracy: 0.9158\n",
            "Epoch 22/25\n",
            "410/410 [==============================] - 1s 2ms/step - loss: 0.2251 - accuracy: 0.9168 - val_loss: 0.2260 - val_accuracy: 0.9155\n",
            "Epoch 23/25\n",
            "410/410 [==============================] - 1s 2ms/step - loss: 0.2249 - accuracy: 0.9168 - val_loss: 0.2253 - val_accuracy: 0.9157\n",
            "Epoch 24/25\n",
            "410/410 [==============================] - 1s 2ms/step - loss: 0.2250 - accuracy: 0.9166 - val_loss: 0.2256 - val_accuracy: 0.9153\n",
            "Epoch 25/25\n",
            "410/410 [==============================] - 1s 2ms/step - loss: 0.2249 - accuracy: 0.9167 - val_loss: 0.2250 - val_accuracy: 0.9155\n"
          ]
        },
        {
          "output_type": "execute_result",
          "data": {
            "text/plain": [
              "<keras.callbacks.History at 0x7f7936c8f590>"
            ]
          },
          "metadata": {},
          "execution_count": 271
        }
      ]
    },
    {
      "cell_type": "code",
      "source": [
        "model.summary()"
      ],
      "metadata": {
        "colab": {
          "base_uri": "https://localhost:8080/"
        },
        "id": "gunJGpsJ_hkM",
        "outputId": "a36ba698-1d9b-44f4-a46a-bb6daeb32836"
      },
      "execution_count": 276,
      "outputs": [
        {
          "output_type": "stream",
          "name": "stdout",
          "text": [
            "Model: \"sequential_10\"\n",
            "_________________________________________________________________\n",
            " Layer (type)                Output Shape              Param #   \n",
            "=================================================================\n",
            " dense_34 (Dense)            (None, 16)                624       \n",
            "                                                                 \n",
            " dense_35 (Dense)            (None, 8)                 136       \n",
            "                                                                 \n",
            " dense_36 (Dense)            (None, 8)                 72        \n",
            "                                                                 \n",
            " dense_37 (Dense)            (None, 1)                 9         \n",
            "                                                                 \n",
            "=================================================================\n",
            "Total params: 841\n",
            "Trainable params: 841\n",
            "Non-trainable params: 0\n",
            "_________________________________________________________________\n"
          ]
        }
      ]
    },
    {
      "cell_type": "code",
      "source": [
        "preds = model.predict(x_test)\n",
        "preds = (preds > 0.4).astype(int).reshape(-1)"
      ],
      "metadata": {
        "id": "BN0vYaE4uU4o"
      },
      "execution_count": 272,
      "outputs": []
    },
    {
      "cell_type": "code",
      "source": [
        "print(\"accuracy: \", accuracy(preds, y_test))\n",
        "print(\"precision: \", precision(preds, y_test))\n",
        "print(\"recall: \", recall(preds, y_test))\n",
        "print(\"f1: \", f1(preds, y_test))"
      ],
      "metadata": {
        "colab": {
          "base_uri": "https://localhost:8080/"
        },
        "id": "RNhr6eXswQTN",
        "outputId": "a438b57c-de42-4f7c-b24d-69cd323d2e70"
      },
      "execution_count": 273,
      "outputs": [
        {
          "output_type": "stream",
          "name": "stdout",
          "text": [
            "accuracy:  0.91281914976782\n",
            "precision:  0.1688429452303228\n",
            "recall:  0.4838877338877339\n",
            "f1:  0.25033611185802634\n"
          ]
        }
      ]
    },
    {
      "cell_type": "code",
      "source": [
        ""
      ],
      "metadata": {
        "id": "oaDnFmEL3Zlz"
      },
      "execution_count": null,
      "outputs": []
    }
  ]
}